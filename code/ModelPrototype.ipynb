{
 "cells": [
  {
   "cell_type": "markdown",
   "id": "9012761e",
   "metadata": {},
   "source": [
    "# Model Prototype"
   ]
  },
  {
   "cell_type": "markdown",
   "id": "fb4f1b35",
   "metadata": {},
   "source": [
    "### This notebook shows how to create a baseline model pipeline and save it"
   ]
  },
  {
   "cell_type": "markdown",
   "id": "1da0aed4",
   "metadata": {},
   "source": [
    "##### We save the Spark Dataframe as an Iceberg Table. Iceberg is a new open table format backed by Apple, Netflix and Cloudera. \n",
    "##### In the context of ML Ops, the most anticipated feature is Time Travel i.e. the ability to reproduce the data and the schema across different versions in time\n",
    "##### Finally, we create a simple PySpark pipeline and train a classifier with Keras/Tensorflow"
   ]
  },
  {
   "cell_type": "markdown",
   "id": "e1246c56",
   "metadata": {},
   "source": [
    "* For a more comprehensive demo of Iceberg in CML, please visit the [Spark3 Iceberg CML Github Repository](https://github.com/pdefusco/Spark3_Iceberg_CML)\n",
    "* For a more detailed introduction to CML Session, Notebooks, and Spark tips and trips please visit the [CML Total Beginner GitHub Repository](https://github.com/pdefusco/CML-Total-Beginner)\n",
    "* For a more comprehensive example of the Atlas Python client mentioned below, please visit the [Atlas Client Example Notebook in the Data Integration with ML GitHub Repository](https://github.com/pdefusco/Data_Integration_wMachineLearning/blob/main/2_A_Atlas_Client_Example.ipynb)"
   ]
  },
  {
   "cell_type": "code",
   "execution_count": 1,
   "id": "3202b174-6a0f-492d-b30b-27cfe3c882ea",
   "metadata": {},
   "outputs": [],
   "source": [
    "#spark.stop()"
   ]
  },
  {
   "cell_type": "code",
   "execution_count": 2,
   "id": "dbaee738",
   "metadata": {},
   "outputs": [],
   "source": [
    "from pyspark.sql import SparkSession\n",
    "from pyspark.sql.functions import *\n",
    "import seaborn as sns\n",
    "import matplotlib.pyplot as plt\n",
    "import os\n",
    "from pyspark.ml import Pipeline\n",
    "from pyspark.ml.classification import RandomForestClassifier\n",
    "from pyspark.ml.feature import IndexToString, StringIndexer, VectorIndexer\n",
    "from pyspark.ml.evaluation import MulticlassClassificationEvaluator\n",
    "from pyspark.sql.types import IntegerType, FloatType"
   ]
  },
  {
   "cell_type": "markdown",
   "id": "ac6efdef-6885-47de-96c2-c04340e5b622",
   "metadata": {},
   "source": [
    "#### The Spark Session is created with the following configurations. If you get an error, ensure your CML Session is using Runtimes and Spark 3.1."
   ]
  },
  {
   "cell_type": "code",
   "execution_count": 3,
   "id": "3897e07d-4449-4bf4-a56a-8aaef6bb6109",
   "metadata": {},
   "outputs": [
    {
     "name": "stderr",
     "output_type": "stream",
     "text": [
      "Setting spark.hadoop.yarn.resourcemanager.principal to pauldefusco\n"
     ]
    }
   ],
   "source": [
    "spark = SparkSession.builder\\\n",
    "  .appName(\"0.1 - Model Prototype\") \\\n",
    "  .config(\"spark.kerberos.access.hadoopFileSystems\", os.environ[\"STORAGE\"])\\\n",
    "  .getOrCreate()\n",
    "  #.config(\"spark.jars\",\"/home/cdsw/lib/iceberg-spark3-runtime-0.9.1.1.13.317211.0-9.jar\") \\\n",
    "  #.config(\"spark.sql.extensions\",\"org.apache.iceberg.spark.extensions.IcebergSparkSessionExtensions\") \\\n",
    "  #.config(\"spark.sql.catalog.spark_catalog\",\"org.apache.iceberg.spark.SparkSessionCatalog\") \\\n",
    "  #.config(\"spark.sql.catalog.spark_catalog.type\",\"hive\") \\"
   ]
  },
  {
   "cell_type": "markdown",
   "id": "62f08e0e-b080-4185-9771-650cfbf89425",
   "metadata": {},
   "source": [
    "#### Loading the data..."
   ]
  },
  {
   "cell_type": "code",
   "execution_count": 4,
   "id": "095723d9",
   "metadata": {},
   "outputs": [
    {
     "name": "stderr",
     "output_type": "stream",
     "text": [
      "                                                                                \r"
     ]
    }
   ],
   "source": [
    "# Load and parse the data file, converting it to a DataFrame.\n",
    "df = spark.read.csv(os.environ[\"STORAGE\"]+'/datalake/model_factory/LoanStats_2015_subset_091322.csv',   \n",
    "    header=True,\n",
    "    sep=',',\n",
    "    nullValue='NA')"
   ]
  },
  {
   "cell_type": "code",
   "execution_count": 5,
   "id": "de0eb199-57ec-48e8-a815-7dd318ee6eec",
   "metadata": {},
   "outputs": [
    {
     "name": "stderr",
     "output_type": "stream",
     "text": [
      "                                                                                \r"
     ]
    },
    {
     "data": {
      "text/plain": [
       "111073"
      ]
     },
     "execution_count": 5,
     "metadata": {},
     "output_type": "execute_result"
    }
   ],
   "source": [
    "df.count()"
   ]
  },
  {
   "cell_type": "markdown",
   "id": "be590540-10d7-47a7-aadd-e9e3bc85c9ef",
   "metadata": {},
   "source": [
    "#### Investigating Target Class Imbalance"
   ]
  },
  {
   "cell_type": "code",
   "execution_count": 6,
   "id": "74b918ed-1eac-477f-8e14-347a450df88e",
   "metadata": {},
   "outputs": [
    {
     "name": "stderr",
     "output_type": "stream",
     "text": [
      "[Stage 4:=============================>                             (1 + 1) / 2]\r"
     ]
    },
    {
     "name": "stdout",
     "output_type": "stream",
     "text": [
      "+------------------+\n",
      "|       loan_status|\n",
      "+------------------+\n",
      "|        Fully Paid|\n",
      "|           Default|\n",
      "|   In Grace Period|\n",
      "|       Charged Off|\n",
      "|Late (31-120 days)|\n",
      "|           Current|\n",
      "| Late (16-30 days)|\n",
      "|             10500|\n",
      "+------------------+\n",
      "\n"
     ]
    },
    {
     "name": "stderr",
     "output_type": "stream",
     "text": [
      "                                                                                \r"
     ]
    }
   ],
   "source": [
    "df.select(\"loan_status\").distinct().show()"
   ]
  },
  {
   "cell_type": "code",
   "execution_count": 7,
   "id": "3b305246-684c-4d9c-9398-97f5592613e0",
   "metadata": {},
   "outputs": [
    {
     "name": "stderr",
     "output_type": "stream",
     "text": [
      "[Stage 7:=============================>                             (1 + 1) / 2]\r"
     ]
    },
    {
     "name": "stdout",
     "output_type": "stream",
     "text": [
      "+------------------+-----+\n",
      "|       loan_status|count|\n",
      "+------------------+-----+\n",
      "|        Fully Paid|42826|\n",
      "|           Default|    3|\n",
      "|   In Grace Period|  813|\n",
      "|       Charged Off|15053|\n",
      "|Late (31-120 days)| 1519|\n",
      "|           Current|50516|\n",
      "| Late (16-30 days)|  342|\n",
      "|             10500|    1|\n",
      "+------------------+-----+\n",
      "\n",
      "None\n"
     ]
    },
    {
     "name": "stderr",
     "output_type": "stream",
     "text": [
      "                                                                                \r"
     ]
    }
   ],
   "source": [
    "#Types of loan status\n",
    "print(df.groupBy('loan_status').count().show())"
   ]
  },
  {
   "cell_type": "code",
   "execution_count": 8,
   "id": "89e04af9-dcf0-4970-b605-97eda68bc89e",
   "metadata": {},
   "outputs": [
    {
     "name": "stderr",
     "output_type": "stream",
     "text": [
      "                                                                                \r"
     ]
    },
    {
     "data": {
      "image/png": "[encoded data removed]",
      "text/plain": [
       "<Figure size 864x288 with 1 Axes>"
      ]
     },
     "metadata": {
      "needs_background": "light"
     },
     "output_type": "display_data"
    }
   ],
   "source": [
    "df_plot = df.groupBy('loan_status').count().toPandas()\n",
    "plt.figure(figsize=(12,4))\n",
    "g = sns.barplot(x=\"loan_status\", y=\"count\", data=df_plot)\n",
    "g.set_title('Loan Status Category Counts')\n",
    "plt.show()"
   ]
  },
  {
   "cell_type": "markdown",
   "id": "ceb4c4fb-9a3c-427d-a5b6-474623540d24",
   "metadata": {},
   "source": [
    "#### Creating the Target Feature"
   ]
  },
  {
   "cell_type": "code",
   "execution_count": 9,
   "id": "5b9da99c-7aff-41bf-9672-0fee7f3255a0",
   "metadata": {},
   "outputs": [],
   "source": [
    "df = df.withColumn(\"label\", when((df[\"loan_status\"] == \"Charged Off\")|(df[\"loan_status\"] == \"Default\"), 1).otherwise(0))"
   ]
  },
  {
   "cell_type": "markdown",
   "id": "85e56cc9-44a9-4e2b-8110-cae1afb643ed",
   "metadata": {},
   "source": [
    "We want to predict Default vs Non-Default Loan Applicants..."
   ]
  },
  {
   "cell_type": "code",
   "execution_count": 10,
   "id": "fbf24680-d890-4988-b6ae-a4631439be11",
   "metadata": {},
   "outputs": [],
   "source": [
    "df = df.withColumn(\"acc_now_delinq\", df[\"acc_now_delinq\"].cast(FloatType()))\n",
    "df = df.withColumn(\"acc_open_past_24mths\", df[\"acc_open_past_24mths\"].cast(FloatType()))\n",
    "df = df.withColumn(\"annual_inc\", df[\"annual_inc\"].cast(FloatType()))\n",
    "df = df.withColumn(\"avg_cur_bal\", df[\"avg_cur_bal\"].cast(FloatType()))\n",
    "df = df.withColumn(\"funded_amnt\", df[\"funded_amnt\"].cast(FloatType()))\n",
    "df = df.withColumn(\"label\", df[\"label\"].cast(FloatType()))"
   ]
  },
  {
   "cell_type": "code",
   "execution_count": 11,
   "id": "02903b4a-ab6c-4147-9939-2bcb2c271cfc",
   "metadata": {},
   "outputs": [],
   "source": [
    "#df = df.select(['acc_now_delinq', 'acc_open_past_24mths', 'addr_state', 'annual_inc', 'avg_cur_bal', 'funded_amnt', 'label'])\n",
    "#df = df.dropna()\n",
    "df = df.select(['acc_now_delinq', 'acc_open_past_24mths', 'annual_inc', 'avg_cur_bal', 'funded_amnt', 'label'])"
   ]
  },
  {
   "cell_type": "code",
   "execution_count": 12,
   "id": "70b70189-49f2-4a4b-a62f-cb21970e6580",
   "metadata": {},
   "outputs": [],
   "source": [
    "df = df.na.drop(subset=[\"addr_state\"])"
   ]
  },
  {
   "cell_type": "code",
   "execution_count": 59,
   "id": "439e5429-cbf3-4c6d-81c2-1219f0873633",
   "metadata": {},
   "outputs": [],
   "source": [
    "li=[\"TX\",\"CA\",\"FL\", \"CO\"]\n",
    "df = df.filter(df.addr_state.isin(li))"
   ]
  },
  {
   "cell_type": "code",
   "execution_count": 13,
   "id": "a2587645-2f88-46b7-ba0f-c5efd1d38bf9",
   "metadata": {},
   "outputs": [],
   "source": [
    "df = df.limit(10000)"
   ]
  },
  {
   "cell_type": "code",
   "execution_count": 14,
   "id": "08a4c72e-88e2-478e-af52-de1260b1b63c",
   "metadata": {},
   "outputs": [],
   "source": [
    "df = df.fillna(0)"
   ]
  },
  {
   "cell_type": "code",
   "execution_count": 15,
   "id": "219b8d1b-0c7e-4949-b324-47b2653920c0",
   "metadata": {},
   "outputs": [
    {
     "data": {
      "text/plain": [
       "[('acc_now_delinq', 'float'),\n",
       " ('acc_open_past_24mths', 'float'),\n",
       " ('annual_inc', 'float'),\n",
       " ('avg_cur_bal', 'float'),\n",
       " ('funded_amnt', 'float'),\n",
       " ('label', 'float')]"
      ]
     },
     "execution_count": 15,
     "metadata": {},
     "output_type": "execute_result"
    }
   ],
   "source": [
    "df.dtypes"
   ]
  },
  {
   "cell_type": "code",
   "execution_count": 16,
   "id": "16f0812e-4651-461c-bdc7-55033d081433",
   "metadata": {},
   "outputs": [
    {
     "name": "stdout",
     "output_type": "stream",
     "text": [
      "+--------------+--------------------+----------+-----------+-----------+-----+\n",
      "|acc_now_delinq|acc_open_past_24mths|annual_inc|avg_cur_bal|funded_amnt|label|\n",
      "+--------------+--------------------+----------+-----------+-----------+-----+\n",
      "|             0|                   0|         0|          0|          0|    0|\n",
      "+--------------+--------------------+----------+-----------+-----------+-----+\n",
      "\n"
     ]
    }
   ],
   "source": [
    "from pyspark.sql.functions import col,isnan, when, count\n",
    "df.select([count(when(isnan(c) | col(c).isNull(), c)).alias(c) for c in df.columns]).show()"
   ]
  },
  {
   "cell_type": "code",
   "execution_count": 17,
   "id": "8f450977-84ed-44b5-befc-2bc76eb7905f",
   "metadata": {},
   "outputs": [],
   "source": [
    "pd_df = df.toPandas()"
   ]
  },
  {
   "cell_type": "code",
   "execution_count": 18,
   "id": "23cd5c91-85cb-410c-90cf-1d2660b0e900",
   "metadata": {},
   "outputs": [
    {
     "data": {
      "text/plain": [
       "Index(['acc_now_delinq', 'acc_open_past_24mths', 'annual_inc', 'avg_cur_bal',\n",
       "       'funded_amnt', 'label'],\n",
       "      dtype='object')"
      ]
     },
     "execution_count": 18,
     "metadata": {},
     "output_type": "execute_result"
    }
   ],
   "source": [
    "pd_df.columns"
   ]
  },
  {
   "cell_type": "markdown",
   "id": "88a28f02-65c1-4777-bace-375ebf97480a",
   "metadata": {},
   "source": [
    "We start with a baseline...  we decide to start with only a few key features."
   ]
  },
  {
   "cell_type": "markdown",
   "id": "6f22a1a5-4896-4efd-a37f-fdafca58a581",
   "metadata": {},
   "source": [
    "#### Let's create a simple Baseline Model Pipeline"
   ]
  },
  {
   "cell_type": "code",
   "execution_count": 20,
   "id": "b0fbfb29-c955-4841-967c-bf9545dee37b",
   "metadata": {},
   "outputs": [],
   "source": [
    "train = df.sampleBy(\"label\", fractions={0: 0.8, 1: 0.2}, seed=10)"
   ]
  },
  {
   "cell_type": "code",
   "execution_count": 21,
   "id": "27725fd4-3295-4791-b67d-9de0364e1e81",
   "metadata": {},
   "outputs": [],
   "source": [
    "test = df.subtract(train)"
   ]
  },
  {
   "cell_type": "code",
   "execution_count": 22,
   "id": "a5d92ba7-3c76-478c-9bfe-bfaec1d462cd",
   "metadata": {},
   "outputs": [
    {
     "data": {
      "text/plain": [
       "DataFrame[acc_now_delinq: float, acc_open_past_24mths: float, annual_inc: float, avg_cur_bal: float, funded_amnt: float, label: float]"
      ]
     },
     "execution_count": 22,
     "metadata": {},
     "output_type": "execute_result"
    }
   ],
   "source": [
    "train.cache()\n",
    "test.cache()"
   ]
  },
  {
   "cell_type": "code",
   "execution_count": 23,
   "id": "980d3ef0-d671-4502-94ca-2fd5ac6b2d40",
   "metadata": {},
   "outputs": [
    {
     "data": {
      "text/plain": [
       "[('acc_now_delinq', 'float'),\n",
       " ('acc_open_past_24mths', 'float'),\n",
       " ('annual_inc', 'float'),\n",
       " ('avg_cur_bal', 'float'),\n",
       " ('funded_amnt', 'float'),\n",
       " ('label', 'float')]"
      ]
     },
     "execution_count": 23,
     "metadata": {},
     "output_type": "execute_result"
    }
   ],
   "source": [
    "train.dtypes"
   ]
  },
  {
   "cell_type": "code",
   "execution_count": 24,
   "id": "011ba0aa-ebe7-4481-8163-094d7de04a8f",
   "metadata": {},
   "outputs": [],
   "source": [
    "import random\n",
    "import numpy as np\n",
    "from pyspark.sql import Row\n",
    "from sklearn import neighbors\n",
    "from pyspark.ml.feature import VectorAssembler\n",
    "from pyspark.mllib.stat import Statistics\n",
    "from pyspark.ml.evaluation import BinaryClassificationEvaluator\n",
    "from pyspark.ml.classification import LogisticRegression\n",
    "from pyspark.ml.tuning import ParamGridBuilder, TrainValidationSplit\n",
    "from pyspark.ml.feature import StringIndexer, VectorAssembler, StandardScaler, OneHotEncoder\n",
    "from pyspark.ml import Pipeline\n",
    "from pyspark.mllib.stat import Statistics\n",
    "from pyspark.ml.linalg import DenseVector\n",
    "from pyspark.sql import functions as F"
   ]
  },
  {
   "cell_type": "code",
   "execution_count": 25,
   "id": "3fa962e5-ac74-4db2-bc5b-b2e7a625b3e3",
   "metadata": {},
   "outputs": [],
   "source": [
    "cat_cols = [item[0] for item in df.dtypes if item[1].startswith('string')]\n",
    "num_cols = [item[0] for item in df.dtypes if item[1].startswith('in') or item[1].startswith('dou') or item[1].startswith('floa')]\n",
    "cols = cat_cols + num_cols\n",
    "cols.remove('label')"
   ]
  },
  {
   "cell_type": "code",
   "execution_count": 26,
   "id": "e2384db5-fcb5-48fc-9dd5-0181e16aed76",
   "metadata": {},
   "outputs": [
    {
     "data": {
      "text/plain": [
       "['acc_now_delinq',\n",
       " 'acc_open_past_24mths',\n",
       " 'annual_inc',\n",
       " 'avg_cur_bal',\n",
       " 'funded_amnt']"
      ]
     },
     "execution_count": 26,
     "metadata": {},
     "output_type": "execute_result"
    }
   ],
   "source": [
    "cols"
   ]
  },
  {
   "cell_type": "code",
   "execution_count": 27,
   "id": "4d87d220-7641-4fd9-bc2f-e48c9c73d8d8",
   "metadata": {},
   "outputs": [],
   "source": [
    "#Creates a Pipeline Object including One Hot Encoding of Categorical Features  \n",
    "def make_pipeline(spark_df):   \n",
    "    \n",
    "    spark_df = spark_df.dropna()\n",
    "    \n",
    "    #Creating list of categorical and numeric features\n",
    "    cat_cols = [item[0] for item in spark_df.dtypes if item[1].startswith('string')]\n",
    "    num_cols = [item[0] for item in spark_df.dtypes if item[1].startswith('in') or item[1].startswith('dou') or item[1].startswith('floa')]\n",
    "    cols = cat_cols + num_cols\n",
    "    cols.remove('label')\n",
    "    \n",
    "    print(cols)\n",
    "    \n",
    "    stages= []\n",
    "        \n",
    "    addr_state_stringIndexer = StringIndexer(inputCol = \"addr_state\" , outputCol = \"addr_state\" + '_StringIndex').setHandleInvalid(\"error\")\n",
    "    stages += [addr_state_stringIndexer]\n",
    "    \n",
    "    #for indexer in stages:\n",
    "    #    indexer.setHandleInvalid(\"keep\")\n",
    "    \n",
    "    encoder = OneHotEncoder(inputCols=[col + '_StringIndex' for col in cat_cols], outputCols=[col + '_ClassVect' for col in cat_cols], dropLast=False, handleInvalid=\"error\")\n",
    "    stages += [encoder]\n",
    "\n",
    "    #Assembling mixed data type transformations:\n",
    "    assemblerInputs = [c + \"_ClassVect\" for c in cat_cols] + num_cols\n",
    "    assemblerInputs = cat_cols + num_cols\n",
    "    assembler = VectorAssembler(inputCols=assemblerInputs, outputCol=\"features\")#.setHandleInvalid(\"keep\")\n",
    "    stages += [assembler]\n",
    "    \n",
    "    #Assembling mixed data type transformations:\n",
    "    #assembler = VectorAssembler(inputCols=cols, outputCol=\"features\").setHandleInvalid(\"skip\")\n",
    "    #stages += [assembler]    \n",
    "    \n",
    "    #Scaling features\n",
    "    scaler = StandardScaler(inputCol=\"features\", outputCol=\"scaledFeatures\", withStd=True, withMean=True)\n",
    "    stages += [scaler]\n",
    "    \n",
    "    #Logistic Regression\n",
    "    lr = LogisticRegression(featuresCol='scaledFeatures', labelCol='label', maxIter=100, regParam=0.0001, elasticNetParam=0.0001)\n",
    "    stages += [lr]\n",
    "    \n",
    "    #Creating and running the pipeline:\n",
    "    pipeline = Pipeline(stages=stages)\n",
    "    pipelineModel = pipeline.fit(spark_df)\n",
    "\n",
    "    return pipelineModel"
   ]
  },
  {
   "cell_type": "code",
   "execution_count": 28,
   "id": "79b242dc-6243-4d70-9881-d8a700619dbc",
   "metadata": {},
   "outputs": [
    {
     "name": "stdout",
     "output_type": "stream",
     "text": [
      "['acc_now_delinq', 'acc_open_past_24mths', 'annual_inc', 'avg_cur_bal', 'funded_amnt']\n"
     ]
    },
    {
     "name": "stderr",
     "output_type": "stream",
     "text": [
      "                                                                                \r"
     ]
    }
   ],
   "source": [
    "pipelineModel = make_pipeline(train)"
   ]
  },
  {
   "cell_type": "code",
   "execution_count": 29,
   "id": "3e64d79f-269e-4820-a68a-33c418e1efa9",
   "metadata": {},
   "outputs": [],
   "source": [
    "clf_out_df = pipelineModel.transform(test)"
   ]
  },
  {
   "cell_type": "code",
   "execution_count": null,
   "id": "b13e7832-d937-48de-bf5a-d4552d93d05c",
   "metadata": {},
   "outputs": [],
   "source": []
  },
  {
   "cell_type": "code",
   "execution_count": 30,
   "id": "24271065-762c-42cc-8dc6-4b85ab61d186",
   "metadata": {},
   "outputs": [],
   "source": [
    "clf_pd = clf_out_df.toPandas()"
   ]
  },
  {
   "cell_type": "code",
   "execution_count": 31,
   "id": "d1661c99-7b77-43eb-8606-953c9c31601a",
   "metadata": {},
   "outputs": [
    {
     "data": {
      "text/plain": [
       "(2838, 11)"
      ]
     },
     "execution_count": 31,
     "metadata": {},
     "output_type": "execute_result"
    }
   ],
   "source": [
    "clf_pd.shape"
   ]
  },
  {
   "cell_type": "code",
   "execution_count": 32,
   "id": "8ada8c75-22d6-4240-92bb-8d1cafb4fd00",
   "metadata": {},
   "outputs": [
    {
     "data": {
      "text/html": [
       "<div>\n",
       "<style scoped>\n",
       "    .dataframe tbody tr th:only-of-type {\n",
       "        vertical-align: middle;\n",
       "    }\n",
       "\n",
       "    .dataframe tbody tr th {\n",
       "        vertical-align: top;\n",
       "    }\n",
       "\n",
       "    .dataframe thead th {\n",
       "        text-align: right;\n",
       "    }\n",
       "</style>\n",
       "<table border=\"1\" class=\"dataframe\">\n",
       "  <thead>\n",
       "    <tr style=\"text-align: right;\">\n",
       "      <th></th>\n",
       "      <th>prediction</th>\n",
       "    </tr>\n",
       "    <tr>\n",
       "      <th>label</th>\n",
       "      <th></th>\n",
       "    </tr>\n",
       "  </thead>\n",
       "  <tbody>\n",
       "    <tr>\n",
       "      <th>0.0</th>\n",
       "      <td>1707</td>\n",
       "    </tr>\n",
       "    <tr>\n",
       "      <th>1.0</th>\n",
       "      <td>1131</td>\n",
       "    </tr>\n",
       "  </tbody>\n",
       "</table>\n",
       "</div>"
      ],
      "text/plain": [
       "       prediction\n",
       "label            \n",
       "0.0          1707\n",
       "1.0          1131"
      ]
     },
     "execution_count": 32,
     "metadata": {},
     "output_type": "execute_result"
    }
   ],
   "source": [
    "clf_pd[['label', 'prediction']].groupby('label').count()"
   ]
  },
  {
   "cell_type": "code",
   "execution_count": 33,
   "id": "f4be65da-f619-44b8-a5b5-fdf1336078de",
   "metadata": {},
   "outputs": [
    {
     "data": {
      "text/html": [
       "<div>\n",
       "<style scoped>\n",
       "    .dataframe tbody tr th:only-of-type {\n",
       "        vertical-align: middle;\n",
       "    }\n",
       "\n",
       "    .dataframe tbody tr th {\n",
       "        vertical-align: top;\n",
       "    }\n",
       "\n",
       "    .dataframe thead th {\n",
       "        text-align: right;\n",
       "    }\n",
       "</style>\n",
       "<table border=\"1\" class=\"dataframe\">\n",
       "  <thead>\n",
       "    <tr style=\"text-align: right;\">\n",
       "      <th></th>\n",
       "      <th>label</th>\n",
       "    </tr>\n",
       "    <tr>\n",
       "      <th>prediction</th>\n",
       "      <th></th>\n",
       "    </tr>\n",
       "  </thead>\n",
       "  <tbody>\n",
       "    <tr>\n",
       "      <th>0.0</th>\n",
       "      <td>1707</td>\n",
       "    </tr>\n",
       "    <tr>\n",
       "      <th>1.0</th>\n",
       "      <td>1131</td>\n",
       "    </tr>\n",
       "  </tbody>\n",
       "</table>\n",
       "</div>"
      ],
      "text/plain": [
       "            label\n",
       "prediction       \n",
       "0.0          1707\n",
       "1.0          1131"
      ]
     },
     "execution_count": 33,
     "metadata": {},
     "output_type": "execute_result"
    }
   ],
   "source": [
    "clf_pd[['label', 'prediction']].groupby('prediction').count()"
   ]
  },
  {
   "cell_type": "code",
   "execution_count": 34,
   "id": "c799a819-1102-470b-843b-8b4fd0b45fcf",
   "metadata": {},
   "outputs": [
    {
     "name": "stdout",
     "output_type": "stream",
     "text": [
      "+----------+-----+\n",
      "|prediction|count|\n",
      "+----------+-----+\n",
      "|       1.0| 1131|\n",
      "|       0.0| 1707|\n",
      "+----------+-----+\n",
      "\n"
     ]
    }
   ],
   "source": [
    "clf_out_df.select(\"label\", \"prediction\").groupby('prediction').count().show()"
   ]
  },
  {
   "cell_type": "code",
   "execution_count": 35,
   "id": "2c2ce97f-653a-44bb-8482-3c7d65a671e0",
   "metadata": {},
   "outputs": [
    {
     "name": "stdout",
     "output_type": "stream",
     "text": [
      "+-----+-----+\n",
      "|label|count|\n",
      "+-----+-----+\n",
      "|  1.0| 1131|\n",
      "|  0.0| 1707|\n",
      "+-----+-----+\n",
      "\n"
     ]
    }
   ],
   "source": [
    "clf_out_df.select(\"label\", \"prediction\").groupby('label').count().show()"
   ]
  },
  {
   "cell_type": "code",
   "execution_count": 36,
   "id": "36e4dd1d-9925-4a1e-ac69-eaeef56a7d65",
   "metadata": {},
   "outputs": [],
   "source": [
    "# Extract the summary from the returned LogisticRegressionModel instance trained\n",
    "# in the earlier example\n",
    "trainingSummary = pipelineModel.stages[-1].summary"
   ]
  },
  {
   "cell_type": "code",
   "execution_count": 37,
   "id": "2667126a-b583-438d-97ec-683b32ca7b11",
   "metadata": {},
   "outputs": [
    {
     "name": "stdout",
     "output_type": "stream",
     "text": [
      "objectiveHistory:\n",
      "0.1605610934348873\n",
      "0.08036827828473109\n",
      "0.0295832946280885\n",
      "0.026283928765371205\n",
      "0.017386590947862778\n",
      "0.011772959927948714\n",
      "0.007905229804019252\n",
      "0.005363586916678744\n",
      "0.0036842736449116584\n",
      "0.002579945883712298\n",
      "0.0018567227067576718\n",
      "0.0013860000298881825\n",
      "0.001081702501414592\n",
      "0.0008844728304983428\n",
      "0.0007606404442323787\n",
      "0.000648070625392929\n",
      "0.0006153748453015245\n",
      "0.0005967956521316127\n",
      "0.0005925260088224121\n",
      "0.0005905246530289504\n",
      "0.0005899981648730593\n",
      "0.0005898880555629592\n",
      "0.0005898028161236494\n",
      "0.0005897954976705965\n",
      "0.0005897940785639664\n",
      "0.0005897933494365069\n",
      "0.0005897933077043129\n",
      "0.0005897933020773891\n",
      "0.0005897933014927723\n"
     ]
    }
   ],
   "source": [
    "# Obtain the objective per iteration\n",
    "objectiveHistory = trainingSummary.objectiveHistory\n",
    "print(\"objectiveHistory:\")\n",
    "for objective in objectiveHistory:\n",
    "    print(objective)"
   ]
  },
  {
   "cell_type": "code",
   "execution_count": 38,
   "id": "9ccd3ed7-8733-4e95-9412-e9f435c203a5",
   "metadata": {},
   "outputs": [],
   "source": [
    "def plot_roc(model):\n",
    "    \n",
    "    plt.figure(figsize=(5,5))\n",
    "    plt.plot([0, 1], [0, 1], 'r--')\n",
    "    plt.plot(model.summary.roc.select('FPR').collect(),\n",
    "             model.summary.roc.select('TPR').collect())\n",
    "    plt.xlabel('FPR')\n",
    "    plt.ylabel('TPR')\n",
    "    plt.show()"
   ]
  },
  {
   "cell_type": "code",
   "execution_count": 39,
   "id": "54055f5d-9d6b-4acf-b4a6-d21f50f1a4ee",
   "metadata": {},
   "outputs": [
    {
     "name": "stderr",
     "output_type": "stream",
     "text": [
      "/opt/spark/python/lib/pyspark.zip/pyspark/sql/context.py:127: FutureWarning: Deprecated in 3.0.0. Use SparkSession.builder.getOrCreate() instead.\n"
     ]
    },
    {
     "data": {
      "image/png": "[encoded data removed]",
      "text/plain": [
       "<Figure size 360x360 with 1 Axes>"
      ]
     },
     "metadata": {
      "needs_background": "light"
     },
     "output_type": "display_data"
    }
   ],
   "source": [
    "plot_roc(pipelineModel.stages[-1])"
   ]
  },
  {
   "cell_type": "code",
   "execution_count": 40,
   "id": "fab65de6-3212-420a-b38d-e9d756a5698a",
   "metadata": {},
   "outputs": [
    {
     "name": "stdout",
     "output_type": "stream",
     "text": [
      "Accuracy: 1.0\n",
      "FPR: 0.0\n",
      "TPR: 1.0\n",
      "F-measure: 1.0\n",
      "Precision: 1.0\n",
      "Recall: 1.0\n"
     ]
    }
   ],
   "source": [
    "accuracy = trainingSummary.accuracy\n",
    "falsePositiveRate = trainingSummary.weightedFalsePositiveRate\n",
    "truePositiveRate = trainingSummary.weightedTruePositiveRate\n",
    "fMeasure = trainingSummary.weightedFMeasure()\n",
    "precision = trainingSummary.weightedPrecision\n",
    "recall = trainingSummary.weightedRecall\n",
    "print(\"Accuracy: %s\\nFPR: %s\\nTPR: %s\\nF-measure: %s\\nPrecision: %s\\nRecall: %s\"\n",
    "      % (accuracy, falsePositiveRate, truePositiveRate, fMeasure, precision, recall))"
   ]
  },
  {
   "cell_type": "markdown",
   "id": "ef804869-b74e-4afe-bc9d-f3b6155cbf95",
   "metadata": {},
   "source": [
    "#### Time to train the classifier on the original data and deploy our scoring pipeline with CML Jobs"
   ]
  },
  {
   "cell_type": "code",
   "execution_count": 41,
   "id": "44eccd9b-cf6f-4422-ba48-ae9b20cc87cd",
   "metadata": {},
   "outputs": [],
   "source": [
    "def score_data(df):\n",
    "    \n",
    "    #Scoring on the entire dataset now\n",
    "    #df = cols_to_float(df)\n",
    "    pipelineModel = make_pipeline(df)\n",
    "    scored_df = pipelineModel.transform(df)\n",
    "    scored_df = scored_df.select(\"acc_now_delinq\", \"acc_open_past_24mths\", \"annual_inc\", \"avg_cur_bal\", \"funded_amnt\", \"label\")\n",
    "    #\"addr_state\",\n",
    "    return scored_df, pipelineModel"
   ]
  },
  {
   "cell_type": "code",
   "execution_count": 42,
   "id": "295c9712-f78f-4b85-85be-da2d1d1bace6",
   "metadata": {},
   "outputs": [
    {
     "name": "stdout",
     "output_type": "stream",
     "text": [
      "['acc_now_delinq', 'acc_open_past_24mths', 'annual_inc', 'avg_cur_bal', 'funded_amnt']\n"
     ]
    }
   ],
   "source": [
    "scored_df, pipelineModel = score_data(df)"
   ]
  },
  {
   "cell_type": "code",
   "execution_count": 43,
   "id": "7c066fe6-12b0-4fc6-ab8d-8888863d34a2",
   "metadata": {},
   "outputs": [
    {
     "name": "stdout",
     "output_type": "stream",
     "text": [
      "+--------------+--------------------+----------+-----------+-----------+-----+\n",
      "|acc_now_delinq|acc_open_past_24mths|annual_inc|avg_cur_bal|funded_amnt|label|\n",
      "+--------------+--------------------+----------+-----------+-----------+-----+\n",
      "|           0.0|                 6.0|   50050.0|      809.0|     8000.0|  1.0|\n",
      "|           0.0|                 1.0|   80000.0|     3393.0|    20000.0|  1.0|\n",
      "|           0.0|                13.0|   65000.0|     2003.0|     2000.0|  1.0|\n",
      "|           0.0|                 7.0|  183000.0|    19827.0|    21000.0|  0.0|\n",
      "+--------------+--------------------+----------+-----------+-----------+-----+\n",
      "only showing top 4 rows\n",
      "\n"
     ]
    }
   ],
   "source": [
    "#This is a sample of what we will save to the datawarehouse\n",
    "scored_df.show(4)"
   ]
  },
  {
   "cell_type": "markdown",
   "id": "71f8fe1c-94aa-46e5-836f-6ae4d505f137",
   "metadata": {},
   "source": [
    "#### Convert Model to ONNX"
   ]
  },
  {
   "cell_type": "code",
   "execution_count": 44,
   "id": "e2794c02-9ff9-4b89-9a8e-140c24c57129",
   "metadata": {},
   "outputs": [],
   "source": [
    "import onnxruntime\n",
    "import onnxmltools\n",
    "import onnx\n",
    "from onnxmltools.convert.common.data_types import FloatTensorType, StringTensorType, Int8TensorType\n",
    "from onnxmltools.convert.sparkml.utils import buildInitialTypesSimple"
   ]
  },
  {
   "cell_type": "code",
   "execution_count": 45,
   "id": "50c64853-2425-4dcf-a548-a3c87abc4857",
   "metadata": {},
   "outputs": [],
   "source": [
    "#onnx_df = df.drop('label')"
   ]
  },
  {
   "cell_type": "code",
   "execution_count": 49,
   "id": "0c74e804-88dc-4c29-bfb5-607f2ee7fe12",
   "metadata": {},
   "outputs": [],
   "source": [
    "initial_types = onnxmltools.convert.sparkml.buildInitialTypesSimple(df)"
   ]
  },
  {
   "cell_type": "code",
   "execution_count": 50,
   "id": "e38d013e-6d66-4de8-b88c-7338ac45ff9b",
   "metadata": {},
   "outputs": [
    {
     "data": {
      "text/plain": [
       "[('acc_now_delinq', FloatTensorType(shape=[1, 1])),\n",
       " ('acc_open_past_24mths', FloatTensorType(shape=[1, 1])),\n",
       " ('annual_inc', FloatTensorType(shape=[1, 1])),\n",
       " ('avg_cur_bal', FloatTensorType(shape=[1, 1])),\n",
       " ('funded_amnt', FloatTensorType(shape=[1, 1])),\n",
       " ('label', FloatTensorType(shape=[1, 1]))]"
      ]
     },
     "execution_count": 50,
     "metadata": {},
     "output_type": "execute_result"
    }
   ],
   "source": [
    "initial_types"
   ]
  },
  {
   "cell_type": "code",
   "execution_count": 51,
   "id": "71f66e7d-11dc-43a1-ad20-c065dfa20b27",
   "metadata": {},
   "outputs": [
    {
     "name": "stderr",
     "output_type": "stream",
     "text": [
      "The maximum opset needed by this model is only 8.\n"
     ]
    },
    {
     "name": "stdout",
     "output_type": "stream",
     "text": [
      "{'classlabels_ints': [0, 1],\n",
      " 'coefficients': [-0.007323873343154043,\n",
      "                  -0.14254764712818369,\n",
      "                  0.07377201426295497,\n",
      "                  0.08533874638062437,\n",
      "                  -0.05123905913698588,\n",
      "                  -5.227792351315804,\n",
      "                  0.007323873343154043,\n",
      "                  0.14254764712818369,\n",
      "                  -0.07377201426295497,\n",
      "                  -0.08533874638062437,\n",
      "                  0.05123905913698588,\n",
      "                  5.227792351315804],\n",
      " 'intercepts': [6.358540051282428, -6.358540051282428],\n",
      " 'multi_class': 1,\n",
      " 'name': 'LinearClassifier',\n",
      " 'post_transform': 'LOGISTIC'}\n"
     ]
    }
   ],
   "source": [
    "onnx_model = onnxmltools.convert.convert_sparkml(pipelineModel, 'My Sparkml Pipeline', initial_types)"
   ]
  },
  {
   "cell_type": "code",
   "execution_count": 52,
   "id": "40261f75-bf67-4e62-a022-65ed394d0fdd",
   "metadata": {},
   "outputs": [],
   "source": [
    "with open(\"../models/model.onnx\", \"wb\") as f:\n",
    "    f.write(onnx_model.SerializeToString())"
   ]
  },
  {
   "cell_type": "code",
   "execution_count": 115,
   "id": "8878f261-e572-461e-ba26-f049ac4943f7",
   "metadata": {},
   "outputs": [],
   "source": [
    "#spark.stop()"
   ]
  },
  {
   "cell_type": "markdown",
   "id": "7ce22a76-1a4d-42d5-a66e-3babb363eb95",
   "metadata": {},
   "source": [
    "#### We will store the classifier locally but we could also use other storage options (S3, ADLS, GCS, HDFS, Ozone, etc.)"
   ]
  },
  {
   "cell_type": "code",
   "execution_count": 81,
   "id": "3994581d-ddf7-43ab-95c5-49b031e63645",
   "metadata": {},
   "outputs": [],
   "source": [
    "#def save_local_clf(clf_pipeline):\n",
    "#    clf_pipeline.write().save(\"/home/cdsw/models\")\n",
    "\n",
    "#def save_s3_clf(clf_pipeline):\n",
    "    #Saving pipeline to S3:\n",
    "#    clf_pipeline.write().save(os.environ[\"STORAGE\"]+\"/datalake/pdefusco/pipeline\")"
   ]
  },
  {
   "cell_type": "code",
   "execution_count": 83,
   "id": "d33921ff-b258-45b8-a89d-58c5b080a0e6",
   "metadata": {},
   "outputs": [],
   "source": [
    "#df = cols_to_float(df)"
   ]
  },
  {
   "cell_type": "code",
   "execution_count": 84,
   "id": "5430e7f2-7181-469f-90e5-d69eb389c581",
   "metadata": {},
   "outputs": [],
   "source": [
    "#def save_s3_data(df):\n",
    "#    df.write.mode(\"overwrite\").option(\"header\", \"true\").parquet(os.environ[\"STORAGE\"]+\"/datalake/pdefusco/LoanStats_2015_subset.parquet\") \n",
    "    \n",
    "#df = spark.read.parquet('s3a://demo-aws-go02/datalake/pdefusco/LoanStats_2015_subset.parquet',   \n",
    "#    header=True,\n",
    "#    sep=',',\n",
    "#    nullValue='NA')"
   ]
  },
  {
   "cell_type": "code",
   "execution_count": 114,
   "id": "9d2ec0e0-3fec-46e0-bca8-4f3c3543669b",
   "metadata": {},
   "outputs": [],
   "source": [
    "#save_s3_data(df)"
   ]
  },
  {
   "cell_type": "code",
   "execution_count": null,
   "id": "e5753009-ff73-4696-b241-508fe0409f98",
   "metadata": {},
   "outputs": [],
   "source": []
  }
 ],
 "metadata": {
  "kernelspec": {
   "display_name": "Python 3 (ipykernel)",
   "language": "python",
   "name": "python3"
  },
  "language_info": {
   "codemirror_mode": {
    "name": "ipython",
    "version": 3
   },
   "file_extension": ".py",
   "mimetype": "text/x-python",
   "name": "python",
   "nbconvert_exporter": "python",
   "pygments_lexer": "ipython3",
   "version": "3.7.13"
  }
 },
 "nbformat": 4,
 "nbformat_minor": 5
}
